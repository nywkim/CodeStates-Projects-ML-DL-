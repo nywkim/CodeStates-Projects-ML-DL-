{
  "nbformat": 4,
  "nbformat_minor": 0,
  "metadata": {
    "colab": {
      "name": "Untitled2.ipynb",
      "private_outputs": true,
      "provenance": [],
      "authorship_tag": "ABX9TyMzz8JKWDIclYtflZKbhejh",
      "include_colab_link": true
    },
    "kernelspec": {
      "name": "python3",
      "display_name": "Python 3"
    },
    "language_info": {
      "name": "python"
    }
  },
  "cells": [
    {
      "cell_type": "markdown",
      "metadata": {
        "id": "view-in-github",
        "colab_type": "text"
      },
      "source": [
        "<a href=\"https://colab.research.google.com/github/nywkim/project/blob/main/project2.ipynb\" target=\"_parent\"><img src=\"https://colab.research.google.com/assets/colab-badge.svg\" alt=\"Open In Colab\"/></a>"
      ]
    },
    {
      "cell_type": "code",
      "metadata": {
        "id": "oQ6PpEAhzUQ1"
      },
      "source": [
        "import pandas as pd\n",
        "import numpy as np\n",
        "import matplotlib.pyplot as plt\n",
        "import seaborn as sns\n",
        "from sklearn.model_selection import train_test_split\n",
        "\n",
        "sp = pd.read_csv('data_ind.csv', usecols=['acousticness', 'danceability', 'duration_ms', 'energy', 'liveness', 'loudness', 'speechiness',\n",
        "                'tempo', 'valence', 'song_title', 'artist', 'target', 'key'])\n",
        "sp.columns = ['Acousticness', 'Danceability', 'Duration (ms)', 'Energy', 'Chord',\n",
        "       'Liveness', 'Loudness', 'Speechiness', 'Tempo', 'Valence', 'target', 'Song Name', 'Artist']\n",
        "test = pd.read_csv('spotify_dataset.csv', usecols=['Acousticness', 'Danceability', 'Duration (ms)', 'Energy',\n",
        "       'Liveness', 'Loudness', 'Speechiness', 'Tempo', 'Valence', 'Song Name', 'Artist', 'Chord'])\n",
        "test['Chord'] = test.Chord.replace(['C', 'C#/Db', 'D', 'D#/Eb', 'E', 'F', 'F#/Gb', 'G', 'G#/Ab', 'A', 'A#/Bb', 'B'], [0,1,2,3,4,5,6,7,8,9,10,11])\n"
      ],
      "execution_count": null,
      "outputs": []
    },
    {
      "cell_type": "code",
      "metadata": {
        "id": "gXrHRctI4Eom"
      },
      "source": [
        "import plotly.express as px\n",
        "\n",
        "sp.drop_duplicates(subset=None,inplace=True)\n",
        "\n",
        "target = 'target'\n",
        "sp_t = sp[target].value_counts()\n",
        "px.pie(sp, values=sp_t, names=['good','bad'], title=\"Liked/Unliked Songs Distribution Pie Chart\", \n",
        "       color_discrete_sequence=[\"#1DB954\", \"#D22B2B\"])"
      ],
      "execution_count": null,
      "outputs": []
    },
    {
      "cell_type": "code",
      "metadata": {
        "id": "FEp47llypp8K"
      },
      "source": [
        "sp_s = sp.sort_index(axis=1)\n",
        "test_s = test.sort_index(axis=1)\n",
        "\n",
        "sp = sp_s.drop(columns=['Song Name', 'Artist', 'target'], axis=1)\n",
        "X_test = test_s.drop(columns=['Song Name', 'Artist'], axis=1)\n",
        "sp_ = sp_s[['target','Song Name', 'Artist']]\n"
      ],
      "execution_count": null,
      "outputs": []
    },
    {
      "cell_type": "code",
      "metadata": {
        "id": "qVfw2B--1-yr"
      },
      "source": [
        "sp = pd.concat([sp,sp_],axis = 1)\n",
        "train, val = train_test_split(sp, test_size=0.2, random_state=17)\n",
        "features = sp.drop(columns=[target]).columns\n",
        "X_train = train[features]\n",
        "y_train = train[target]\n",
        "X_val = val[features]\n",
        "y_val = val[target]"
      ],
      "execution_count": null,
      "outputs": []
    },
    {
      "cell_type": "code",
      "metadata": {
        "id": "RQJ4FBJLCtqu"
      },
      "source": [
        "from sklearn.linear_model import LogisticRegression\n",
        "from sklearn import tree, ensemble\n",
        "from xgboost import XGBClassifier\n",
        "!pip install catboost\n",
        "from catboost import CatBoostClassifier\n",
        "import xgboost as xgboost\n",
        "\n",
        "from sklearn.metrics import classification_report, confusion_matrix, roc_curve, roc_auc_score,auc, accuracy_score\n"
      ],
      "execution_count": null,
      "outputs": []
    },
    {
      "cell_type": "code",
      "metadata": {
        "id": "qTG_D_rMopoI"
      },
      "source": [
        "obj=list(np.where(X_train.dtypes == np.object)[0])\n",
        "obj"
      ],
      "execution_count": null,
      "outputs": []
    },
    {
      "cell_type": "code",
      "metadata": {
        "id": "woq6j43T4AZv"
      },
      "source": [
        "model=CatBoostClassifier()\n",
        "model.fit(X_train,y_train,cat_features=obj)\n",
        "print(classification_report(y_val,model.predict(X_val)))"
      ],
      "execution_count": null,
      "outputs": []
    },
    {
      "cell_type": "code",
      "metadata": {
        "id": "iFj_uiRnf2CI"
      },
      "source": [
        "from statsmodels.stats.outliers_influence import variance_inflation_factor\n",
        "def vif_show(X_vif):\n",
        "    vif = pd.DataFrame()\n",
        "    vif['Features'] = X_vif.columns\n",
        "    vif['VIF'] = [variance_inflation_factor(X_vif.values, i) for i in range(X_vif.shape[1])]\n",
        "    vif['VIF'] = round(vif['VIF'], 2)\n",
        "    vif = vif.sort_values(by = \"VIF\", ascending = False)\n",
        "    print(vif)\n",
        "    print()\n",
        "    if(vif.iloc[0,1] > 10.0 ):\n",
        "        col = vif.iloc[0,0]\n",
        "        X_vif.drop([vif.iloc[0,0]],axis =1, inplace = True)\n",
        "        print(\"After removing \\\"\"+ col + \"\\\" from datafame\")\n",
        "        vif_show(X_vif)\n",
        "\n",
        "vif_show(sp)"
      ],
      "execution_count": null,
      "outputs": []
    }
  ]
}