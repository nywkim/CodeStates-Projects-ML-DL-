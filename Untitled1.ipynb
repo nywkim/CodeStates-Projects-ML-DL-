{
  "nbformat": 4,
  "nbformat_minor": 0,
  "metadata": {
    "colab": {
      "name": "Untitled1.ipynb",
      "private_outputs": true,
      "provenance": [],
      "authorship_tag": "ABX9TyO1RmqDkJMTw35JBkeJenmY",
      "include_colab_link": true
    },
    "kernelspec": {
      "name": "python3",
      "display_name": "Python 3"
    },
    "language_info": {
      "name": "python"
    }
  },
  "cells": [
    {
      "cell_type": "markdown",
      "metadata": {
        "id": "view-in-github",
        "colab_type": "text"
      },
      "source": [
        "<a href=\"https://colab.research.google.com/github/nywkim/project/blob/main/Untitled1.ipynb\" target=\"_parent\"><img src=\"https://colab.research.google.com/assets/colab-badge.svg\" alt=\"Open In Colab\"/></a>"
      ]
    },
    {
      "cell_type": "code",
      "metadata": {
        "id": "tvIVKFa4KcjK"
      },
      "source": [
        "!sudo apt-get install -y fonts-nanum\n",
        "!sudo fc-cache -fv\n",
        "!rm ~/.cache/matplotlib -rf"
      ],
      "execution_count": null,
      "outputs": []
    },
    {
      "cell_type": "code",
      "metadata": {
        "id": "Umg86GmBvwMA"
      },
      "source": [
        "import pandas as pd\n",
        "import numpy as np\n",
        "df = pd.read_csv('vgames2.csv')\n",
        "df = df.drop(df.columns[0], axis=1)\n",
        "df['Publisher'] = df['Publisher'].fillna('None')\n",
        "df['Genre'] = df['Genre'].fillna('Undefined')"
      ],
      "execution_count": null,
      "outputs": []
    },
    {
      "cell_type": "code",
      "metadata": {
        "id": "eRkxtjOl1WXU"
      },
      "source": [
        "df['EU_Sales'] = df['EU_Sales'].str.replace('M', '')\n",
        "df['NA_Sales'] = df['NA_Sales'].str.replace('M', '')\n",
        "df['JP_Sales'] = df['JP_Sales'].str.replace('M', '')\n",
        "df['Other_Sales'] = df['Other_Sales'].str.replace('M', '')\n",
        "df['EU_Sales'] = df['EU_Sales'].str.replace('K', '/1000')\n",
        "df['NA_Sales'] = df['NA_Sales'].str.replace('K', '/1000')\n",
        "df['JP_Sales'] = df['JP_Sales'].str.replace('K', '/1000')\n",
        "df['Other_Sales'] = df['Other_Sales'].str.replace('K', '/1000')"
      ],
      "execution_count": null,
      "outputs": []
    },
    {
      "cell_type": "code",
      "metadata": {
        "id": "R91XkX0J6-T4"
      },
      "source": [
        "df[['NA_Sales_1', 'NA_Sales_2']] = df['NA_Sales'].str.split('/', expand=True)\n",
        "df['NA_Sales_2'] = df['NA_Sales_2'].fillna(1)\n",
        "df['NA_Sales'] = (df['NA_Sales_1'].astype(float)) / (df['NA_Sales_2'].astype(float)) * 100\n",
        "df[['EU_Sales_1', 'EU_Sales_2']] = df['EU_Sales'].str.split('/', expand=True)\n",
        "df['EU_Sales_2'] = df['EU_Sales_2'].fillna(1)\n",
        "df['EU_Sales'] = (df['EU_Sales_1'].astype(float)) / (df['EU_Sales_2'].astype(float)) * 100\n",
        "df[['JP_Sales_1', 'JP_Sales_2']] = df['JP_Sales'].str.split('/', expand=True)\n",
        "df['JP_Sales_2'] = df['JP_Sales_2'].fillna(1)\n",
        "df['JP_Sales'] = (df['JP_Sales_1'].astype(float)) / (df['JP_Sales_2'].astype(float)) * 100\n",
        "df[['Other_Sales_1', 'Other_Sales_2']] = df['Other_Sales'].str.split('/', expand=True)\n",
        "df['Other_Sales_2'] = df['Other_Sales_2'].fillna(1)\n",
        "df['Other_Sales'] = (df['Other_Sales_1'].astype(float)) / (df['Other_Sales_2'].astype(float)) * 100\n",
        "df = df.iloc[:,:9]"
      ],
      "execution_count": null,
      "outputs": []
    },
    {
      "cell_type": "code",
      "metadata": {
        "id": "EKnQc2-8CpdW"
      },
      "source": [
        "df1 = df[(df['Year'] < 22)]\n",
        "df1['Year'] = df1['Year'] + 2000\n",
        "\n",
        "df2 = df[((df['Year'] < 1960) & (df['Year'] >= 22) )]\n",
        "df2['Year'] = df2['Year'] + 1900\n",
        "df1 = pd.concat([df1,df2])\n",
        "df4 = df[((df['Year'] > 1960) & (df['Year'] <= 2016))]\n",
        "df1 = pd.concat([df1,df4])"
      ],
      "execution_count": null,
      "outputs": []
    },
    {
      "cell_type": "code",
      "metadata": {
        "id": "dcS96cnqmT_g"
      },
      "source": [
        "df4 = df[(df['Year'] > 2016)]\n",
        "df4['Year'] = [2016, 2009, 2016, 2016]\n",
        "df1 = pd.concat([df1,df4]) # Year 결측치 제거 버전\n",
        "\n",
        "df5 = df[(df['Year'].isnull())]\n",
        "df5['Year'] = df5['Year'].fillna(1900)\n",
        "df2 = pd.concat([df1,df5])"
      ],
      "execution_count": null,
      "outputs": []
    },
    {
      "cell_type": "code",
      "metadata": {
        "id": "AVTOo34qw0AA"
      },
      "source": [
        "df = df2.sort_index()\n",
        "df['Total_Sales'] = df['Other_Sales'] + df['JP_Sales'] + df['EU_Sales'] + df['NA_Sales']\n",
        "df"
      ],
      "execution_count": null,
      "outputs": []
    },
    {
      "cell_type": "code",
      "metadata": {
        "id": "7biqDGVIcSvr"
      },
      "source": [
        "df10 = df.sort_values(by='Total_Sales', ascending=False)\n",
        "df10 = df10.reset_index(drop=True)\n",
        "df10.index.name = 'Total_R'\n",
        "df10 = df10.reset_index()"
      ],
      "execution_count": null,
      "outputs": []
    },
    {
      "cell_type": "code",
      "metadata": {
        "id": "8TI4N2ua7_hL"
      },
      "source": [
        "df10 = df10.sort_values(by='NA_Sales', ascending=False)\n",
        "df10 = df10.reset_index(drop=True)\n",
        "df10.index.name = 'NA_R'\n",
        "df10 = df10.reset_index()\n",
        "df10 = df10.sort_values(by='EU_Sales', ascending=False)\n",
        "df10 = df10.reset_index(drop=True)\n",
        "df10.index.name = 'EU_R'\n",
        "df10 = df10.reset_index()\n",
        "df10 = df10.sort_values(by='JP_Sales', ascending=False)\n",
        "df10 = df10.reset_index(drop=True)\n",
        "df10.index.name = 'JP_R'\n",
        "df10 = df10.reset_index()\n",
        "df10 = df10.sort_values(by='Other_Sales', ascending=False)\n",
        "df10 = df10.reset_index(drop=True)\n",
        "df10.index.name = 'Other_R'\n",
        "df10 = df10.reset_index()"
      ],
      "execution_count": null,
      "outputs": []
    },
    {
      "cell_type": "code",
      "metadata": {
        "id": "leajBwyA8ha5"
      },
      "source": [
        "df10['W_R'] = ( df10['Other_R'] + df10['JP_R'] + df10['EU_R'] + df10['NA_R'] ) / 4\n",
        "df10 = df10.sort_values(by='W_R', ascending=True)\n",
        "df10 = df10.reset_index(drop=True)"
      ],
      "execution_count": null,
      "outputs": []
    },
    {
      "cell_type": "code",
      "metadata": {
        "id": "-ocaj7oguqqb"
      },
      "source": [
        "df10.head(20)"
      ],
      "execution_count": null,
      "outputs": []
    },
    {
      "cell_type": "code",
      "metadata": {
        "id": "Z1BCtvAosi7I"
      },
      "source": [
        "df60 = pd.DataFrame((df10.groupby('Genre').NA_Sales.sum(),df10.groupby('Genre').EU_Sales.sum(),df10.groupby('Genre').JP_Sales.sum(),df10.groupby('Genre').Other_Sales.sum(),df10.groupby('Genre').Total_Sales.sum()))\n",
        "# df60 = pd.DataFrame(df10.groupby('Genre').NA_Sales.sum())"
      ],
      "execution_count": null,
      "outputs": []
    },
    {
      "cell_type": "code",
      "metadata": {
        "id": "u74JLSof5wVX"
      },
      "source": [
        "df60 = df60.T # 지역에 따른 게임 장르별 판매량\n",
        "df60 = df60.sort_values(by='Total_Sales', ascending=False)\n",
        "df60"
      ],
      "execution_count": null,
      "outputs": []
    },
    {
      "cell_type": "code",
      "metadata": {
        "id": "4STJImgCKZPk"
      },
      "source": [
        "import matplotlib\n",
        "import matplotlib.pyplot as plt\n",
        "plt.rc('font', family='NanumBarunGothic') "
      ],
      "execution_count": null,
      "outputs": []
    },
    {
      "cell_type": "code",
      "metadata": {
        "id": "KonN2pq5cTxb"
      },
      "source": [
        "plt.rcParams['figure.figsize'] = [12, 8]\n",
        "\n",
        "plt.pie(df60['NA_Sales'], explode=(0.1, 0.1, 0.1 ,0,0.07,0.07, 0,0,0,0, 0,0,0),\n",
        "\n",
        "        labels=df60.index, \n",
        "\n",
        "        autopct='%1.1f%%', # second decimal place\n",
        "        shadow=True, \n",
        "\n",
        "        startangle=0,\n",
        "\n",
        "        textprops={'fontsize': 18}) # text font size\n",
        "\n",
        "plt.axis('equal') #  equal length of X and Y axis\n",
        "\n",
        "plt.title('북미지역 게임 장르별 총 판매량', fontsize=24)\n",
        "\n",
        "plt.show()\n",
        "# 북미 올타임 장르 판매 (파이차트)"
      ],
      "execution_count": null,
      "outputs": []
    },
    {
      "cell_type": "code",
      "metadata": {
        "id": "delApHK6b048"
      },
      "source": [
        "\n",
        "plt.pie(df60['EU_Sales'], explode=(0.1, 0.1, 0.1 ,0,0,0.07, 0.07,0,0,0, 0,0,0),\n",
        "\n",
        "        labels=df60.index, \n",
        "\n",
        "        autopct='%1.1f%%', # second decimal place\n",
        "        shadow=True, \n",
        "\n",
        "        startangle=0,\n",
        "\n",
        "        textprops={'fontsize': 18}) # text font size\n",
        "\n",
        "plt.axis('equal') #  equal length of X and Y axis\n",
        "\n",
        "plt.title('유럽지역 게임 장르별 총 판매량', fontsize=24)\n",
        "\n",
        "plt.show()\n",
        "# 유럽 올타임 장르별 판매량 (파이차트)"
      ],
      "execution_count": null,
      "outputs": []
    },
    {
      "cell_type": "code",
      "metadata": {
        "id": "5e6lATa1cJ_Q"
      },
      "source": [
        "plt.pie(df60['JP_Sales'], explode=(0.1, 0.1, 0 ,0.1,0.1,0.07, 0,0,0,0, 0,0,0),\n",
        "\n",
        "        labels=df60.index, \n",
        "\n",
        "        autopct='%1.1f%%', # second decimal place\n",
        "        shadow=True, \n",
        "\n",
        "        startangle=0,\n",
        "\n",
        "        textprops={'fontsize': 18}) # text font size\n",
        "\n",
        "plt.axis('equal') #  equal length of X and Y axis\n",
        "\n",
        "plt.title('일본 내 게임 장르별 총 판매량', fontsize=24)\n",
        "\n",
        "plt.show()"
      ],
      "execution_count": null,
      "outputs": []
    },
    {
      "cell_type": "code",
      "metadata": {
        "id": "EbB-pstUd3Tu"
      },
      "source": [
        "plt.pie(df60['Other_Sales'], explode=(0.1, 0.1, 0.1 ,0,0,0.07, 0.07,0,0,0, 0,0,0),\n",
        "\n",
        "        labels=df60.index, \n",
        "\n",
        "        autopct='%1.1f%%', # second decimal place\n",
        "        shadow=True, \n",
        "\n",
        "        startangle=0,\n",
        "\n",
        "        textprops={'fontsize': 18}) # text font size\n",
        "\n",
        "plt.axis('equal') #  equal length of X and Y axis\n",
        "\n",
        "plt.title('타지역 게임 장르별 총 판매량', fontsize=24)\n",
        "\n",
        "plt.show()"
      ],
      "execution_count": null,
      "outputs": []
    },
    {
      "cell_type": "code",
      "metadata": {
        "id": "odiiiwdUyPLs"
      },
      "source": [
        "df50 = df[df['Genre'].isin(['Platform'])].groupby('Year').sum()\n",
        "df50['d'] = df[df['Genre'].isin(['Platform'])].groupby('Year').NA_Sales.sum()\n",
        "df50 = df50.drop(df50.columns[0:4], axis=1)\n",
        "df20 = df50\n",
        "df30 = df50\n",
        "df40 = df50\n",
        "df_total = df50"
      ],
      "execution_count": null,
      "outputs": []
    },
    {
      "cell_type": "code",
      "metadata": {
        "id": "DdBQCZDYt9ER"
      },
      "source": [
        "for i in df60.index :\n",
        "    df20[i] = df[df['Genre'].isin([i])].groupby('Year').NA_Sales.sum()\n",
        "df20 = df20.drop(df20.columns[0:2], axis=1)\n",
        "df20 = df20.fillna(0)\n",
        "df20 = df20.iloc[1:]\n",
        "#df20 미국 연도별 장르 판매량"
      ],
      "execution_count": null,
      "outputs": []
    },
    {
      "cell_type": "code",
      "metadata": {
        "id": "rtVucirP1Ium"
      },
      "source": [
        "for i in df60.index :\n",
        "    df30[i] = df[df['Genre'].isin([i])].groupby('Year').EU_Sales.sum()\n",
        "df30 = df30.drop(df30.columns[0:2], axis=1)\n",
        "df30 = df30.fillna(0)\n",
        "df30 = df30.iloc[1:]\n",
        "#df30 유럽 연도별 장르 판매량"
      ],
      "execution_count": null,
      "outputs": []
    },
    {
      "cell_type": "code",
      "metadata": {
        "id": "1R8qrIcG1jHx"
      },
      "source": [
        "for i in df60.index :\n",
        "    df40[i] = df[df['Genre'].isin([i])].groupby('Year').JP_Sales.sum()\n",
        "df40 = df40.drop(df40.columns[0:2], axis=1)\n",
        "df40 = df40.fillna(0)\n",
        "df40 = df40.iloc[1:]\n",
        "#df40 일본 연도별 장르 판매량"
      ],
      "execution_count": null,
      "outputs": []
    },
    {
      "cell_type": "code",
      "metadata": {
        "id": "HPW0hVs91xWm"
      },
      "source": [
        "for i in df60.index :\n",
        "    df50[i] = df[df['Genre'].isin([i])].groupby('Year').Other_Sales.sum()\n",
        "df50 = df50.drop(df50.columns[0:2], axis=1)\n",
        "df50 = df50.fillna(0)\n",
        "df50 = df50.iloc[1:]\n",
        "#df50 기타지역 연도별 장르 판매량"
      ],
      "execution_count": null,
      "outputs": []
    },
    {
      "cell_type": "code",
      "metadata": {
        "id": "lT5HJl0g195A"
      },
      "source": [
        "df20.plot.line()\n",
        "\n",
        "plt.title('북미지역 연도별 각 게임 장르의 판매량 추이', fontsize=20)\n",
        "\n",
        "plt.xlabel('연도 (Year)', fontsize=14)\n",
        "\n",
        "plt.ylabel('판매량 (만)', fontsize=14)\n",
        "\n",
        "plt.legend(fontsize=16, loc='best')\n",
        "\n",
        "plt.show()\n"
      ],
      "execution_count": null,
      "outputs": []
    },
    {
      "cell_type": "code",
      "metadata": {
        "id": "U0_a_n1F2qR1"
      },
      "source": [
        "df30.plot.line()\n",
        "\n",
        "plt.title('유럽지역 연도별 각 게임 장르의 판매량 추이', fontsize=20)\n",
        "\n",
        "plt.xlabel('연도 (Year)', fontsize=14)\n",
        "\n",
        "plt.ylabel('판매량 (만)', fontsize=14)\n",
        "\n",
        "plt.legend(fontsize=16, loc='best')\n",
        "\n",
        "plt.show()\n"
      ],
      "execution_count": null,
      "outputs": []
    },
    {
      "cell_type": "code",
      "metadata": {
        "id": "-Tk7cpx62rjx"
      },
      "source": [
        "df40.plot.line()\n",
        "\n",
        "plt.title('일본 내 연도별 각 게임 장르의 판매량 추이', fontsize=20)\n",
        "\n",
        "plt.xlabel('연도 (Year)', fontsize=14)\n",
        "\n",
        "plt.ylabel('판매량 (만)', fontsize=14)\n",
        "\n",
        "plt.legend(fontsize=16, loc='best')\n",
        "\n",
        "plt.show()\n"
      ],
      "execution_count": null,
      "outputs": []
    },
    {
      "cell_type": "code",
      "metadata": {
        "id": "GuSeKiFU2syA"
      },
      "source": [
        "df50.plot.line()\n",
        "\n",
        "plt.title('기타지역 연도별 각 게임 장르의 판매량 추이', fontsize=20)\n",
        "\n",
        "plt.xlabel('연도 (Year)', fontsize=14)\n",
        "\n",
        "plt.ylabel('판매량 (만)', fontsize=14)\n",
        "\n",
        "plt.legend(fontsize=16, loc='best')\n",
        "\n",
        "plt.show()\n"
      ],
      "execution_count": null,
      "outputs": []
    },
    {
      "cell_type": "code",
      "metadata": {
        "id": "GhBb7hT15F3I"
      },
      "source": [
        "df21 = df20.iloc[29:35] # 북미 10년대만\n",
        "df31 = df30.iloc[29:35] # 유럽 10년대만\n",
        "df41 = df40.iloc[29:35] # 일본 10년대만\n",
        "df51 = df50.iloc[29:35] # 기타 10년대만"
      ],
      "execution_count": null,
      "outputs": []
    },
    {
      "cell_type": "code",
      "metadata": {
        "id": "S5bqmSdH99Oi"
      },
      "source": [
        "df21.plot.line()\n",
        "\n",
        "plt.title('북미지역 10년대 각 게임 장르의 판매량 추이', fontsize=20)\n",
        "\n",
        "plt.xlabel('연도 (Year)', fontsize=14)\n",
        "\n",
        "plt.ylabel('판매량 (만)', fontsize=14)\n",
        "\n",
        "plt.legend(fontsize=10, loc='lower left')\n",
        "\n",
        "plt.show()\n"
      ],
      "execution_count": null,
      "outputs": []
    },
    {
      "cell_type": "code",
      "metadata": {
        "id": "H5jubB8b90YC"
      },
      "source": [
        "df31.plot.line()\n",
        "\n",
        "plt.title('유럽지역 10년대 각 게임 장르의 판매량 추이', fontsize=20)\n",
        "\n",
        "plt.xlabel('연도 (Year)', fontsize=14)\n",
        "\n",
        "plt.ylabel('판매량 (만)', fontsize=14)\n",
        "\n",
        "plt.legend(fontsize=10, loc='lower left')\n",
        "\n",
        "plt.show()\n"
      ],
      "execution_count": null,
      "outputs": []
    },
    {
      "cell_type": "code",
      "metadata": {
        "id": "Qd8s2hcZ9cB6"
      },
      "source": [
        "df41.plot.line()\n",
        "\n",
        "plt.title('일본 내 10년대 각 게임 장르의 판매량 추이', fontsize=20)\n",
        "\n",
        "plt.xlabel('연도 (Year)', fontsize=14)\n",
        "\n",
        "plt.ylabel('판매량 (만)', fontsize=14)\n",
        "\n",
        "plt.legend(fontsize=10, loc='lower left')\n",
        "\n",
        "plt.show()\n"
      ],
      "execution_count": null,
      "outputs": []
    },
    {
      "cell_type": "code",
      "metadata": {
        "id": "7UKp5KIT5pKc"
      },
      "source": [
        "df51.plot.line()\n",
        "\n",
        "plt.title('기타지역 10년대 각 게임 장르의 판매량 추이', fontsize=20)\n",
        "\n",
        "plt.xlabel('연도 (Year)', fontsize=14)\n",
        "\n",
        "plt.ylabel('판매량 (만)', fontsize=14)\n",
        "\n",
        "plt.legend(fontsize=10, loc='lower left')\n",
        "\n",
        "plt.show()\n"
      ],
      "execution_count": null,
      "outputs": []
    },
    {
      "cell_type": "code",
      "metadata": {
        "id": "9pTilrMEJu8_"
      },
      "source": [
        "for i in df60.index :\n",
        "    df_total[i] = df[df['Genre'].isin([i])].groupby('Year').Total_Sales.sum()\n",
        "df_total = df_total.drop(df_total.columns[0:2], axis=1)\n",
        "df_total = df_total.fillna(0)\n",
        "df_total = df_total.iloc[1:]\n",
        "df_total"
      ],
      "execution_count": null,
      "outputs": []
    },
    {
      "cell_type": "code",
      "metadata": {
        "id": "DyD4orGZMeP_"
      },
      "source": [
        "plt.rcParams['figure.figsize'] = [12, 8]\n",
        "\n",
        "plt.pie(df60['Total_Sales'], explode=(0.1, 0.1, 0.1 ,0.07,0.07,0, 0,0,0,0, 0,0,0),\n",
        "\n",
        "        labels=df60.index, \n",
        "\n",
        "        autopct='%1.1f%%', # second decimal place\n",
        "        shadow=True, \n",
        "\n",
        "        startangle=0,\n",
        "\n",
        "        textprops={'fontsize': 18}) # text font size\n",
        "\n",
        "plt.axis('equal') #  equal length of X and Y axis\n",
        "\n",
        "plt.title('월드와이드 게임 장르별 총 판매량', fontsize=24)\n",
        "\n",
        "plt.show()\n",
        "# 북미 올타임 장르 판매 (파이차트)"
      ],
      "execution_count": null,
      "outputs": []
    },
    {
      "cell_type": "code",
      "metadata": {
        "id": "jX0aRq7OMLav"
      },
      "source": [
        "df_total.plot.line()\n",
        "\n",
        "plt.title('세계 연도별 각 게임 장르의 판매량 추이', fontsize=20)\n",
        "\n",
        "plt.xlabel('연도 (Year)', fontsize=14)\n",
        "\n",
        "plt.ylabel('판매량 (만)', fontsize=14)\n",
        "\n",
        "plt.legend(fontsize=16, loc='best')\n",
        "\n",
        "plt.show()\n"
      ],
      "execution_count": null,
      "outputs": []
    },
    {
      "cell_type": "code",
      "metadata": {
        "id": "vbE4XVTHIMA-"
      },
      "source": [
        "df11 = df.drop(df.columns[0:5], axis=1)\n",
        "df11 = df11.iloc[:,:4]\n",
        "df11['Year'] = df['Year']\n",
        "df13 = df11[((df11['Year'] > 1979) & (df11['Year'] <= 1989))]\n",
        "df14 = df11[((df11['Year'] > 1989) & (df11['Year'] <= 1999))]\n",
        "df15 = df11[((df11['Year'] > 1999) & (df11['Year'] <= 2009))]\n",
        "df16 = df11[((df11['Year'] > 2009) & (df11['Year'] <= 2019))]\n",
        "df13 = df13.iloc[:,:4] #80년대 게임 판매량\n",
        "df14 = df14.iloc[:,:4] #90년대 게임 판매량\n",
        "df15 = df15.iloc[:,:4] #00년대 게임 판매량\n",
        "df16 = df16.iloc[:,:4] #10년대 게임 판매량"
      ],
      "execution_count": null,
      "outputs": []
    },
    {
      "cell_type": "code",
      "metadata": {
        "id": "Dr30yCH1KrsB"
      },
      "source": [
        "df17 = pd.DataFrame({'80s' : df13.sum(), '90s' : df14.sum(), '00s' : df15.sum(), '10s' : df16.sum()})\n",
        "df17"
      ],
      "execution_count": null,
      "outputs": []
    },
    {
      "cell_type": "code",
      "metadata": {
        "id": "NO1-4dPxPAQb"
      },
      "source": [
        "df18 = df17.T\n",
        "df18.plot.line()\n",
        "\n",
        "plt.title('연대별 세계 시장 종합 판매량 (~2016)', fontsize=20)\n",
        "\n",
        "plt.xlabel('연대 (decade)', fontsize=14)\n",
        "\n",
        "plt.ylabel('판매량 (만)', fontsize=14)\n",
        "\n",
        "plt.legend(fontsize=16, loc='upper left')\n",
        "\n",
        "plt.show()"
      ],
      "execution_count": null,
      "outputs": []
    },
    {
      "cell_type": "code",
      "metadata": {
        "id": "dsuq-TeAL6sY"
      },
      "source": [
        "for i in df17.columns :\n",
        "    df17[i] = round(df17[i] / df17[i].sum() * 100, 2)\n",
        "df17 = df17.T\n",
        "#세계 시장의 규모 비율"
      ],
      "execution_count": null,
      "outputs": []
    },
    {
      "cell_type": "code",
      "metadata": {
        "id": "cT6RyPqLNFhm"
      },
      "source": [
        "df17.plot(kind=\"bar\",stacked=True)\n",
        "\n",
        "plt.title('연대별 세계 시장 비중 (~2016)', fontsize=20)\n",
        "\n",
        "plt.xlabel('연대 (Decade)', fontsize=14)\n",
        "\n",
        "plt.ylabel('비율(%)', fontsize=14)\n",
        "\n",
        "plt.legend(fontsize=16, loc='best')\n",
        "\n",
        "plt.show()"
      ],
      "execution_count": null,
      "outputs": []
    },
    {
      "cell_type": "code",
      "metadata": {
        "id": "yTqCZH15DvMQ"
      },
      "source": [
        "df12 = df[((df['Year'] > 2009) & (df['Year'] <= 2017))]\n",
        "df22 = df12.sort_values(by='NA_Sales', ascending=False)\n",
        "df22 = df22[(df22['NA_Sales'] > 100)]\n",
        "df22 = df22.reset_index(drop=True)\n",
        "# df22 북미기준 1m이상 10년대 발매 게임 판매 순위\n",
        "df32 = df12.sort_values(by='EU_Sales', ascending=False)\n",
        "df32 = df32[(df32['EU_Sales'] > 100)]\n",
        "df32 = df32.reset_index(drop=True)\n",
        "# df32 유럽기준 1m이상 10년대 발매 게임 판매 순위\n",
        "df42 = df12.sort_values(by='JP_Sales', ascending=False)\n",
        "df42 = df42[(df42['JP_Sales'] > 100)]\n",
        "df42 = df42.reset_index(drop=True)\n",
        "# df42 일본기준 1m이상 10년대 발매 게임 판매 순위\n",
        "df52 = df12.sort_values(by='Other_Sales', ascending=False)\n",
        "df52 = df52[(df52['Other_Sales'] > 100)]\n",
        "df52 = df52.reset_index(drop=True)\n",
        "# df52 기타지역기준 1m이상 10년대 발매 게임 판매 순위"
      ],
      "execution_count": null,
      "outputs": []
    }
  ]
}