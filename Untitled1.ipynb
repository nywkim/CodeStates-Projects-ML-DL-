{
  "nbformat": 4,
  "nbformat_minor": 0,
  "metadata": {
    "colab": {
      "name": "Untitled1.ipynb",
      "private_outputs": true,
      "provenance": [],
      "authorship_tag": "ABX9TyMvRqXXPTd7naqm5NiexQtD",
      "include_colab_link": true
    },
    "kernelspec": {
      "name": "python3",
      "display_name": "Python 3"
    },
    "language_info": {
      "name": "python"
    }
  },
  "cells": [
    {
      "cell_type": "markdown",
      "metadata": {
        "id": "view-in-github",
        "colab_type": "text"
      },
      "source": [
        "<a href=\"https://colab.research.google.com/github/nywkim/project/blob/main/Untitled1.ipynb\" target=\"_parent\"><img src=\"https://colab.research.google.com/assets/colab-badge.svg\" alt=\"Open In Colab\"/></a>"
      ]
    },
    {
      "cell_type": "code",
      "metadata": {
        "id": "Umg86GmBvwMA"
      },
      "source": [
        "import pandas as pd\n",
        "import numpy as np\n",
        "df = pd.read_csv('vgames2.csv')\n",
        "df = df.drop(df.columns[0], axis=1)\n",
        "df['Publisher'] = df['Publisher'].fillna('None')\n",
        "df['Genre'] = df['Genre'].fillna('Undefined')"
      ],
      "execution_count": null,
      "outputs": []
    },
    {
      "cell_type": "code",
      "metadata": {
        "id": "eRkxtjOl1WXU"
      },
      "source": [
        "df['EU_Sales'] = df['EU_Sales'].str.replace('M', '')\n",
        "df['NA_Sales'] = df['NA_Sales'].str.replace('M', '')\n",
        "df['JP_Sales'] = df['JP_Sales'].str.replace('M', '')\n",
        "df['Other_Sales'] = df['Other_Sales'].str.replace('M', '')\n",
        "df['EU_Sales'] = df['EU_Sales'].str.replace('K', '/1000')\n",
        "df['NA_Sales'] = df['NA_Sales'].str.replace('K', '/1000')\n",
        "df['JP_Sales'] = df['JP_Sales'].str.replace('K', '/1000')\n",
        "df['Other_Sales'] = df['Other_Sales'].str.replace('K', '/1000')"
      ],
      "execution_count": null,
      "outputs": []
    },
    {
      "cell_type": "code",
      "metadata": {
        "id": "R91XkX0J6-T4"
      },
      "source": [
        "df[['NA_Sales_1', 'NA_Sales_2']] = df['NA_Sales'].str.split('/', expand=True)\n",
        "df['NA_Sales_2'] = df['NA_Sales_2'].fillna(1)\n",
        "df['NA_Sales'] = (df['NA_Sales_1'].astype(float)) / (df['NA_Sales_2'].astype(float)) * 100\n",
        "df[['EU_Sales_1', 'EU_Sales_2']] = df['EU_Sales'].str.split('/', expand=True)\n",
        "df['EU_Sales_2'] = df['EU_Sales_2'].fillna(1)\n",
        "df['EU_Sales'] = (df['EU_Sales_1'].astype(float)) / (df['EU_Sales_2'].astype(float)) * 100\n",
        "df[['JP_Sales_1', 'JP_Sales_2']] = df['JP_Sales'].str.split('/', expand=True)\n",
        "df['JP_Sales_2'] = df['JP_Sales_2'].fillna(1)\n",
        "df['JP_Sales'] = (df['JP_Sales_1'].astype(float)) / (df['JP_Sales_2'].astype(float)) * 100\n",
        "df[['Other_Sales_1', 'Other_Sales_2']] = df['Other_Sales'].str.split('/', expand=True)\n",
        "df['Other_Sales_2'] = df['Other_Sales_2'].fillna(1)\n",
        "df['Other_Sales'] = (df['Other_Sales_1'].astype(float)) / (df['Other_Sales_2'].astype(float)) * 100\n",
        "df = df.iloc[:,:9]"
      ],
      "execution_count": null,
      "outputs": []
    },
    {
      "cell_type": "code",
      "metadata": {
        "id": "EKnQc2-8CpdW"
      },
      "source": [
        "df1 = df[(df['Year'] < 22)]\n",
        "df1['Year'] = df1['Year'] + 2000"
      ],
      "execution_count": null,
      "outputs": []
    },
    {
      "cell_type": "code",
      "metadata": {
        "id": "CRFliJPHDUC7"
      },
      "source": [
        "df2 = df[((df['Year'] < 1960) & (df['Year'] >= 22) )]\n",
        "df2['Year'] = df2['Year'] + 1900\n",
        "df1 = pd.concat([df1,df2])\n",
        "df4 = df[((df['Year'] > 1960) & (df['Year'] <= 2016))]\n",
        "df1 = pd.concat([df1,df4])"
      ],
      "execution_count": null,
      "outputs": []
    },
    {
      "cell_type": "code",
      "metadata": {
        "id": "dcS96cnqmT_g"
      },
      "source": [
        "df4 = df[(df['Year'] > 2016)]\n",
        "df4['Year'] = [2016, 2009, 2016, 2016]\n",
        "df1 = pd.concat([df1,df4]) # Year 결측치 제거 버전"
      ],
      "execution_count": null,
      "outputs": []
    },
    {
      "cell_type": "code",
      "metadata": {
        "id": "JuOY0qlvNcvM"
      },
      "source": [
        "df5 = df[(df['Year'].isnull())]\n",
        "df5['Year'] = df5['Year'].fillna(1900)\n",
        "df2 = pd.concat([df1,df5])"
      ],
      "execution_count": null,
      "outputs": []
    },
    {
      "cell_type": "code",
      "metadata": {
        "id": "ib0Mk2jASNAN"
      },
      "source": [
        "df = df2.sort_index()\n",
        "df"
      ],
      "execution_count": null,
      "outputs": []
    }
  ]
}