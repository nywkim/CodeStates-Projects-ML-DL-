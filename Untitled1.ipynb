{
  "nbformat": 4,
  "nbformat_minor": 0,
  "metadata": {
    "colab": {
      "name": "Untitled1.ipynb",
      "private_outputs": true,
      "provenance": [],
      "authorship_tag": "ABX9TyMm536dZywk3H4YU/8Kh5UB",
      "include_colab_link": true
    },
    "kernelspec": {
      "name": "python3",
      "display_name": "Python 3"
    },
    "language_info": {
      "name": "python"
    }
  },
  "cells": [
    {
      "cell_type": "markdown",
      "metadata": {
        "id": "view-in-github",
        "colab_type": "text"
      },
      "source": [
        "<a href=\"https://colab.research.google.com/github/nywkim/project/blob/main/Untitled1.ipynb\" target=\"_parent\"><img src=\"https://colab.research.google.com/assets/colab-badge.svg\" alt=\"Open In Colab\"/></a>"
      ]
    },
    {
      "cell_type": "code",
      "metadata": {
        "id": "Umg86GmBvwMA"
      },
      "source": [
        "import pandas as pd\n",
        "import numpy as np"
      ],
      "execution_count": null,
      "outputs": []
    },
    {
      "cell_type": "code",
      "metadata": {
        "id": "ozJtp2E5v4nT"
      },
      "source": [
        "df = pd.read_csv('vgames2.csv')\n",
        "df = df.drop(df.columns[0], axis=1)"
      ],
      "execution_count": null,
      "outputs": []
    },
    {
      "cell_type": "code",
      "metadata": {
        "id": "WY6cQ2GHwK-Z"
      },
      "source": [
        "df1 = df.iloc[:,:5]\n",
        "df2 = df.iloc[:,5:]"
      ],
      "execution_count": null,
      "outputs": []
    },
    {
      "cell_type": "code",
      "metadata": {
        "id": "eRkxtjOl1WXU"
      },
      "source": [
        "df2['EU_Sales'] = df2['EU_Sales'].str.replace('M', '')\n",
        "df2['NA_Sales'] = df2['NA_Sales'].str.replace('M', '')\n",
        "df2['JP_Sales'] = df2['JP_Sales'].str.replace('M', '')\n",
        "df2['Other_Sales'] = df2['Other_Sales'].str.replace('M', '')"
      ],
      "execution_count": null,
      "outputs": []
    },
    {
      "cell_type": "code",
      "metadata": {
        "id": "EtedyB5hwe2C"
      },
      "source": [
        "df2['EU_Sales'] = df2['EU_Sales'].str.replace('K', '/1000')\n",
        "df2['NA_Sales'] = df2['NA_Sales'].str.replace('K', '/1000')\n",
        "df2['JP_Sales'] = df2['JP_Sales'].str.replace('K', '/1000')\n",
        "df2['Other_Sales'] = df2['Other_Sales'].str.replace('K', '/1000')"
      ],
      "execution_count": null,
      "outputs": []
    },
    {
      "cell_type": "code",
      "metadata": {
        "id": "qPHM5fC-92Lz"
      },
      "source": [
        "df2['Na_Sales_2']"
      ],
      "execution_count": null,
      "outputs": []
    },
    {
      "cell_type": "code",
      "metadata": {
        "id": "R91XkX0J6-T4"
      },
      "source": [
        "df2[['NA_Sales_1', 'NA_Sales_2']] = df2['NA_Sales'].str.split('/', expand=True)\n",
        "df2['NA_Sales_2'] = df2['NA_Sales_2'].fillna(1)\n",
        "df2['NA_Sales'] = (df2['NA_Sales_1'].astype(float)) / (df2['NA_Sales_2'].astype(float))\n",
        "df2[['EU_Sales_1', 'EU_Sales_2']] = df2['EU_Sales'].str.split('/', expand=True)\n",
        "df2['EU_Sales_2'] = df2['EU_Sales_2'].fillna(1)\n",
        "df2['EU_Sales'] = (df2['EU_Sales_1'].astype(float)) / (df2['EU_Sales_2'].astype(float))\n",
        "df2[['JP_Sales_1', 'JP_Sales_2']] = df2['JP_Sales'].str.split('/', expand=True)\n",
        "df2['JP_Sales_2'] = df2['JP_Sales_2'].fillna(1)\n",
        "df2['JP_Sales'] = (df2['JP_Sales_1'].astype(float)) / (df2['JP_Sales_2'].astype(float))\n",
        "df2[['Other_Sales_1', 'Other_Sales_2']] = df2['Other_Sales'].str.split('/', expand=True)\n",
        "df2['Other_Sales_2'] = df2['Other_Sales_2'].fillna(1)\n",
        "df2['Other_Sales'] = (df2['Other_Sales_1'].astype(float)) / (df2['Other_Sales_2'].astype(float))\n",
        "df2 = df2.iloc[:,:4]\n",
        "df2 = df2 * 100"
      ],
      "execution_count": null,
      "outputs": []
    },
    {
      "cell_type": "code",
      "metadata": {
        "id": "1Vx4eVmGoJDv"
      },
      "source": [
        "df.head()"
      ],
      "execution_count": null,
      "outputs": []
    },
    {
      "cell_type": "code",
      "metadata": {
        "id": "dcS96cnqmT_g"
      },
      "source": [
        "df2.head()"
      ],
      "execution_count": null,
      "outputs": []
    }
  ]
}