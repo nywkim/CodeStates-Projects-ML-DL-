{
  "nbformat": 4,
  "nbformat_minor": 0,
  "metadata": {
    "colab": {
      "name": "Untitled1.ipynb",
      "private_outputs": true,
      "provenance": [],
      "authorship_tag": "ABX9TyODZvMJGxOC/rtSWt6hpPde",
      "include_colab_link": true
    },
    "kernelspec": {
      "name": "python3",
      "display_name": "Python 3"
    },
    "language_info": {
      "name": "python"
    }
  },
  "cells": [
    {
      "cell_type": "markdown",
      "metadata": {
        "id": "view-in-github",
        "colab_type": "text"
      },
      "source": [
        "<a href=\"https://colab.research.google.com/github/nywkim/project/blob/main/Untitled1.ipynb\" target=\"_parent\"><img src=\"https://colab.research.google.com/assets/colab-badge.svg\" alt=\"Open In Colab\"/></a>"
      ]
    },
    {
      "cell_type": "code",
      "metadata": {
        "id": "tvIVKFa4KcjK"
      },
      "source": [
        ""
      ],
      "execution_count": null,
      "outputs": []
    },
    {
      "cell_type": "code",
      "metadata": {
        "id": "Umg86GmBvwMA"
      },
      "source": [
        "import pandas as pd\n",
        "import numpy as np\n",
        "df = pd.read_csv('vgames2.csv')\n",
        "df = df.drop(df.columns[0], axis=1)\n",
        "df['Publisher'] = df['Publisher'].fillna('None')\n",
        "df['Genre'] = df['Genre'].fillna('Undefined')"
      ],
      "execution_count": null,
      "outputs": []
    },
    {
      "cell_type": "code",
      "metadata": {
        "id": "eRkxtjOl1WXU"
      },
      "source": [
        "df['EU_Sales'] = df['EU_Sales'].str.replace('M', '')\n",
        "df['NA_Sales'] = df['NA_Sales'].str.replace('M', '')\n",
        "df['JP_Sales'] = df['JP_Sales'].str.replace('M', '')\n",
        "df['Other_Sales'] = df['Other_Sales'].str.replace('M', '')\n",
        "df['EU_Sales'] = df['EU_Sales'].str.replace('K', '/1000')\n",
        "df['NA_Sales'] = df['NA_Sales'].str.replace('K', '/1000')\n",
        "df['JP_Sales'] = df['JP_Sales'].str.replace('K', '/1000')\n",
        "df['Other_Sales'] = df['Other_Sales'].str.replace('K', '/1000')"
      ],
      "execution_count": null,
      "outputs": []
    },
    {
      "cell_type": "code",
      "metadata": {
        "id": "R91XkX0J6-T4"
      },
      "source": [
        "df[['NA_Sales_1', 'NA_Sales_2']] = df['NA_Sales'].str.split('/', expand=True)\n",
        "df['NA_Sales_2'] = df['NA_Sales_2'].fillna(1)\n",
        "df['NA_Sales'] = (df['NA_Sales_1'].astype(float)) / (df['NA_Sales_2'].astype(float)) * 100\n",
        "df[['EU_Sales_1', 'EU_Sales_2']] = df['EU_Sales'].str.split('/', expand=True)\n",
        "df['EU_Sales_2'] = df['EU_Sales_2'].fillna(1)\n",
        "df['EU_Sales'] = (df['EU_Sales_1'].astype(float)) / (df['EU_Sales_2'].astype(float)) * 100\n",
        "df[['JP_Sales_1', 'JP_Sales_2']] = df['JP_Sales'].str.split('/', expand=True)\n",
        "df['JP_Sales_2'] = df['JP_Sales_2'].fillna(1)\n",
        "df['JP_Sales'] = (df['JP_Sales_1'].astype(float)) / (df['JP_Sales_2'].astype(float)) * 100\n",
        "df[['Other_Sales_1', 'Other_Sales_2']] = df['Other_Sales'].str.split('/', expand=True)\n",
        "df['Other_Sales_2'] = df['Other_Sales_2'].fillna(1)\n",
        "df['Other_Sales'] = (df['Other_Sales_1'].astype(float)) / (df['Other_Sales_2'].astype(float)) * 100\n",
        "df = df.iloc[:,:9]"
      ],
      "execution_count": null,
      "outputs": []
    },
    {
      "cell_type": "code",
      "metadata": {
        "id": "EKnQc2-8CpdW"
      },
      "source": [
        "df1 = df[(df['Year'] < 22)]\n",
        "df1['Year'] = df1['Year'] + 2000"
      ],
      "execution_count": null,
      "outputs": []
    },
    {
      "cell_type": "code",
      "metadata": {
        "id": "CRFliJPHDUC7"
      },
      "source": [
        "df2 = df[((df['Year'] < 1960) & (df['Year'] >= 22) )]\n",
        "df2['Year'] = df2['Year'] + 1900\n",
        "df1 = pd.concat([df1,df2])\n",
        "df4 = df[((df['Year'] > 1960) & (df['Year'] <= 2016))]\n",
        "df1 = pd.concat([df1,df4])"
      ],
      "execution_count": null,
      "outputs": []
    },
    {
      "cell_type": "code",
      "metadata": {
        "id": "dcS96cnqmT_g"
      },
      "source": [
        "df4 = df[(df['Year'] > 2016)]\n",
        "df4['Year'] = [2016, 2009, 2016, 2016]\n",
        "df1 = pd.concat([df1,df4]) # Year 결측치 제거 버전"
      ],
      "execution_count": null,
      "outputs": []
    },
    {
      "cell_type": "code",
      "metadata": {
        "id": "JuOY0qlvNcvM"
      },
      "source": [
        "df5 = df[(df['Year'].isnull())]\n",
        "df5['Year'] = df5['Year'].fillna(1900)\n",
        "df2 = pd.concat([df1,df5])"
      ],
      "execution_count": null,
      "outputs": []
    },
    {
      "cell_type": "code",
      "metadata": {
        "id": "ib0Mk2jASNAN"
      },
      "source": [
        "df = df2.sort_index()\n",
        "df"
      ],
      "execution_count": null,
      "outputs": []
    },
    {
      "cell_type": "code",
      "metadata": {
        "id": "AVTOo34qw0AA"
      },
      "source": [
        "df['Total_Sales'] = df['Other_Sales'] + df['JP_Sales'] + df['EU_Sales'] + df['NA_Sales']\n",
        "df"
      ],
      "execution_count": null,
      "outputs": []
    },
    {
      "cell_type": "code",
      "metadata": {
        "id": "7biqDGVIcSvr"
      },
      "source": [
        "df10 = df.sort_values(by='Total_Sales', ascending=False)\n",
        "df10 = df10.reset_index(drop=True)\n",
        "df10.index.name = 'Total_R'\n",
        "df10 = df10.reset_index()"
      ],
      "execution_count": null,
      "outputs": []
    },
    {
      "cell_type": "code",
      "metadata": {
        "id": "8TI4N2ua7_hL"
      },
      "source": [
        "df10 = df10.sort_values(by='NA_Sales', ascending=False)\n",
        "df10 = df10.reset_index(drop=True)\n",
        "df10.index.name = 'NA_R'\n",
        "df10 = df10.reset_index()\n",
        "df10 = df10.sort_values(by='EU_Sales', ascending=False)\n",
        "df10 = df10.reset_index(drop=True)\n",
        "df10.index.name = 'EU_R'\n",
        "df10 = df10.reset_index()\n",
        "df10 = df10.sort_values(by='JP_Sales', ascending=False)\n",
        "df10 = df10.reset_index(drop=True)\n",
        "df10.index.name = 'JP_R'\n",
        "df10 = df10.reset_index()\n",
        "df10 = df10.sort_values(by='Other_Sales', ascending=False)\n",
        "df10 = df10.reset_index(drop=True)\n",
        "df10.index.name = 'Other_R'\n",
        "df10 = df10.reset_index()"
      ],
      "execution_count": null,
      "outputs": []
    },
    {
      "cell_type": "code",
      "metadata": {
        "id": "leajBwyA8ha5"
      },
      "source": [
        "df10['W_R'] = ( df10['Other_R'] + df10['JP_R'] + df10['EU_R'] + df10['NA_R'] ) / 4\n",
        "df10 = df10.sort_values(by='W_R', ascending=True)\n",
        "df10 = df10.reset_index(drop=True)"
      ],
      "execution_count": null,
      "outputs": []
    },
    {
      "cell_type": "code",
      "metadata": {
        "id": "-ocaj7oguqqb"
      },
      "source": [
        "df10.head(20)"
      ],
      "execution_count": null,
      "outputs": []
    },
    {
      "cell_type": "code",
      "metadata": {
        "id": "Z1BCtvAosi7I"
      },
      "source": [
        "df60 = pd.DataFrame((df10.groupby('Genre').NA_Sales.sum(),df10.groupby('Genre').EU_Sales.sum(),df10.groupby('Genre').JP_Sales.sum(),df10.groupby('Genre').Other_Sales.sum(),df10.groupby('Genre').Total_Sales.sum()))\n",
        "# df60 = pd.DataFrame(df10.groupby('Genre').NA_Sales.sum())"
      ],
      "execution_count": null,
      "outputs": []
    },
    {
      "cell_type": "code",
      "metadata": {
        "id": "u74JLSof5wVX"
      },
      "source": [
        "df60 = df60.T # 지역에 따른 게임 장르별 판매량\n",
        "df60 = df60.sort_values(by='Total_Sales', ascending=False)\n",
        "df60 = df60.drop(df60.columns[4], axis=1)\n",
        "df60"
      ],
      "execution_count": null,
      "outputs": []
    },
    {
      "cell_type": "code",
      "metadata": {
        "id": "4STJImgCKZPk"
      },
      "source": [
        "import matplotlib\n",
        "import matplotlib.pyplot as plt"
      ],
      "execution_count": null,
      "outputs": []
    },
    {
      "cell_type": "code",
      "metadata": {
        "id": "KonN2pq5cTxb"
      },
      "source": [
        "plt.rcParams['figure.figsize'] = [12, 8]\n",
        "\n",
        "plt.pie(df60['NA_Sales'], explode=(0.1, 0.1, 0.1 ,0.1,0.1,0.1, 0.05,0.05,0.05,0.03, 0.03,0.03,0.01),\n",
        "\n",
        "        labels=df60.index, \n",
        "\n",
        "        autopct='%1.1f%%', # second decimal place\n",
        "\n",
        "        shadow=True, \n",
        "\n",
        "        startangle=90,\n",
        "\n",
        "        textprops={'fontsize': 24}) # text font size\n",
        "\n",
        "plt.axis('equal') #  equal length of X and Y axis\n",
        "\n",
        "plt.title('Game Genres Pie Chart of North America Sales', fontsize=20)\n",
        "\n",
        "plt.show()\n"
      ],
      "execution_count": null,
      "outputs": []
    },
    {
      "cell_type": "code",
      "metadata": {
        "id": "odiiiwdUyPLs"
      },
      "source": [
        "df50 = df10[df10['Genre'].isin(['Platform'])].groupby('Year').Total_Sales.sum()\n",
        "df50"
      ],
      "execution_count": null,
      "outputs": []
    }
  ]
}